{
 "cells": [
  {
   "cell_type": "code",
   "execution_count": 18,
   "metadata": {},
   "outputs": [],
   "source": [
    "import mongoengine\n",
    "import meetup.api\n",
    "import os\n",
    "import configparser\n",
    "import requests\n",
    "import json\n",
    "from opencage.geocoder import OpenCageGeocode"
   ]
  },
  {
   "cell_type": "markdown",
   "metadata": {},
   "source": [
    "Configparser implementation"
   ]
  },
  {
   "cell_type": "code",
   "execution_count": 19,
   "metadata": {},
   "outputs": [],
   "source": [
    "config = configparser.ConfigParser()\n",
    "config.read('config/meetup.cfg')\n",
    "os.environ['MEETUP_API_KEY'] = config['MEETUP']['API_KEY']\n",
    "os.environ['OPENCAGE_KEY']=config['OPENCAGE']['KEY']\n",
    "\n",
    "geocode = OpenCageGeocode(os.environ['OPENCAGE_KEY'])"
   ]
  },
  {
   "cell_type": "code",
   "execution_count": 3,
   "metadata": {},
   "outputs": [],
   "source": [
    "class Event:\n",
    "    \n",
    "    def __init__(self,\n",
    "                params,\n",
    "                url_path):\n",
    "        self.params = params\n",
    "        self.url_path = url_path\n",
    "        \n",
    "    \n",
    "    def get_event(self, *args, **kwargs):\n",
    "        \n",
    "        r = requests.get(self.url_path, params=self.params)\n",
    "        request_string = r.text\n",
    "        \n",
    "        return request_string"
   ]
  },
  {
   "cell_type": "code",
   "execution_count": 4,
   "metadata": {},
   "outputs": [],
   "source": [
    "default_args = dict(\n",
    "    country='United Stated',\n",
    "    key= os.environ['MEETUP_API_KEY'],\n",
    "    topic='Python'\n",
    ")\n",
    "\n",
    "url_meetup_request = \"https://api.meetup.com/2/open_events\"\n",
    "events = Event(params=default_args, url_path=url_meetup_request)\n",
    "response = events.get_event()"
   ]
  },
  {
   "cell_type": "code",
   "execution_count": 9,
   "metadata": {},
   "outputs": [
    {
     "data": {
      "text/plain": [
       "191"
      ]
     },
     "execution_count": 9,
     "metadata": {},
     "output_type": "execute_result"
    }
   ],
   "source": [
    "json_response = json.loads(response)\n",
    "data = json_response['results']\n",
    "len(data)"
   ]
  },
  {
   "cell_type": "code",
   "execution_count": 6,
   "metadata": {},
   "outputs": [],
   "source": [
    "from pyspark.sql import SparkSession\n",
    "from pyspark.sql import functions as F\n",
    "from pyspark.sql import types as T"
   ]
  },
  {
   "cell_type": "code",
   "execution_count": 7,
   "metadata": {},
   "outputs": [],
   "source": [
    "spark = SparkSession \\\n",
    "    .builder \\\n",
    "    .config(\"spark.jars.packages\", \"org.apache.hadoop:hadoop-aws:2.7.5\") \\\n",
    "    .getOrCreate()"
   ]
  },
  {
   "cell_type": "code",
   "execution_count": 89,
   "metadata": {},
   "outputs": [],
   "source": [
    "columns = ['id', 'date', 'year', 'month', 'day', 'country', 'city', 'state', 'meetup_name', 'meetup_group_name', 'description', 'event_url', 'yes_rsvp_count', 'status']\n",
    "id, date, year, month, day, country, address, meetup_name, meetup_group_name, description, event_url, yes_rsvp_count, status = ([] for i in range(13))\n",
    "\n",
    "for label in data:\n",
    "    date_event = datetime.fromtimestamp(label['time'] / 1000.0)\n",
    "    location_json = geocode.reverse_geocode(label['group']['group_lat'], label['group']['group_lon'])\n",
    "    location_meetup = location_json[0]['components']\n",
    "    address_meetup = location_json[0]['formatted']\n",
    "    \n",
    "    \n",
    "    id.append(label['id'])\n",
    "    date.append(date_event)\n",
    "    year.append(date_event.year)\n",
    "    month.append(date_event.month)\n",
    "    day.append(date_event.year)\n",
    "    country.append(location_meetup['country'])\n",
    "    address.append(address_meetup)\n",
    "    meetup_name.append(label['name'])\n",
    "    meetup_group_name.append(label['group']['name'])\n",
    "    description.append(label['description'])\n",
    "    event_url.append(label['event_url'])\n",
    "    yes_rsvp_count.append(label['yes_rsvp_count'])\n",
    "    status.append(label['status'])"
   ]
  },
  {
   "cell_type": "code",
   "execution_count": 64,
   "metadata": {},
   "outputs": [
    {
     "data": {
      "text/plain": [
       "'Memphis'"
      ]
     },
     "execution_count": 64,
     "metadata": {},
     "output_type": "execute_result"
    }
   ],
   "source": [
    "# results_geocode = geocode.reverse_geocode(label['group']['group_lat'], label['group']['group_lon'])\n",
    "    \n",
    "results_geocode[0]['components']['city']"
   ]
  },
  {
   "cell_type": "code",
   "execution_count": 88,
   "metadata": {},
   "outputs": [
    {
     "data": {
      "text/plain": [
       "{'ISO_3166-1_alpha-2': 'RO',\n",
       " 'ISO_3166-1_alpha-3': 'ROU',\n",
       " '_type': 'building',\n",
       " 'city': 'Iași',\n",
       " 'continent': 'Europe',\n",
       " 'country': 'Romania',\n",
       " 'country_code': 'ro',\n",
       " 'county': 'Iași',\n",
       " 'house_number': '34',\n",
       " 'political_union': 'European Union',\n",
       " 'postcode': '507184',\n",
       " 'residential': 'Iași',\n",
       " 'road': 'Strada Florilor',\n",
       " 'suburb': 'Gară'}"
      ]
     },
     "execution_count": 88,
     "metadata": {},
     "output_type": "execute_result"
    }
   ],
   "source": [
    "location_json[0]['components']"
   ]
  },
  {
   "cell_type": "code",
   "execution_count": null,
   "metadata": {},
   "outputs": [],
   "source": []
  }
 ],
 "metadata": {
  "kernelspec": {
   "display_name": "Python 3",
   "language": "python",
   "name": "python3"
  },
  "language_info": {
   "codemirror_mode": {
    "name": "ipython",
    "version": 3
   },
   "file_extension": ".py",
   "mimetype": "text/x-python",
   "name": "python",
   "nbconvert_exporter": "python",
   "pygments_lexer": "ipython3",
   "version": "3.6.8"
  }
 },
 "nbformat": 4,
 "nbformat_minor": 2
}
