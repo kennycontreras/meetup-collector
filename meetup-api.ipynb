{
 "cells": [
  {
   "cell_type": "code",
   "execution_count": 18,
   "metadata": {},
   "outputs": [],
   "source": [
    "import mongoengine\n",
    "import meetup.api\n",
    "import os\n",
    "import configparser\n",
    "import requests\n",
    "import json\n",
    "from opencage.geocoder import OpenCageGeocode"
   ]
  },
  {
   "cell_type": "markdown",
   "metadata": {},
   "source": [
    "Configparser implementation"
   ]
  },
  {
   "cell_type": "code",
   "execution_count": 19,
   "metadata": {},
   "outputs": [],
   "source": [
    "config = configparser.ConfigParser()\n",
    "config.read('config/meetup.cfg')\n",
    "os.environ['MEETUP_API_KEY'] = config['MEETUP']['API_KEY']\n",
    "os.environ['OPENCAGE_KEY']=config['OPENCAGE']['KEY']\n",
    "\n",
    "geocode = OpenCageGeocode(os.environ['OPENCAGE_KEY'])"
   ]
  },
  {
   "cell_type": "code",
   "execution_count": 3,
   "metadata": {},
   "outputs": [],
   "source": [
    "class Event:\n",
    "    \n",
    "    def __init__(self,\n",
    "                params,\n",
    "                url_path):\n",
    "        self.params = params\n",
    "        self.url_path = url_path\n",
    "        \n",
    "    \n",
    "    def get_event(self, *args, **kwargs):\n",
    "        \n",
    "        r = requests.get(self.url_path, params=self.params)\n",
    "        request_string = r.text\n",
    "        \n",
    "        return request_string"
   ]
  },
  {
   "cell_type": "code",
   "execution_count": 4,
   "metadata": {},
   "outputs": [],
   "source": [
    "default_args = dict(\n",
    "    country='United Stated',\n",
    "    key= os.environ['MEETUP_API_KEY'],\n",
    "    topic='Python'\n",
    ")\n",
    "\n",
    "url_meetup_request = \"https://api.meetup.com/2/open_events\"\n",
    "events = Event(params=default_args, url_path=url_meetup_request)\n",
    "response = events.get_event()"
   ]
  },
  {
   "cell_type": "code",
   "execution_count": 9,
   "metadata": {},
   "outputs": [
    {
     "data": {
      "text/plain": [
       "191"
      ]
     },
     "execution_count": 9,
     "metadata": {},
     "output_type": "execute_result"
    }
   ],
   "source": [
    "json_response = json.loads(response)\n",
    "data = json_response['results']\n",
    "len(data)"
   ]
  },
  {
   "cell_type": "code",
   "execution_count": 6,
   "metadata": {},
   "outputs": [],
   "source": [
    "from pyspark.sql import SparkSession\n",
    "from pyspark.sql import functions as F\n",
    "from pyspark.sql import types as T"
   ]
  },
  {
   "cell_type": "code",
   "execution_count": 7,
   "metadata": {},
   "outputs": [],
   "source": [
    "spark = SparkSession \\\n",
    "    .builder \\\n",
    "    .config(\"spark.jars.packages\", \"org.apache.hadoop:hadoop-aws:2.7.5\") \\\n",
    "    .getOrCreate()"
   ]
  },
  {
   "cell_type": "code",
   "execution_count": 21,
   "metadata": {},
   "outputs": [
    {
     "data": {
      "text/plain": [
       "{'zip': '94102',\n",
       " 'country': 'us',\n",
       " 'localized_country_name': 'USA',\n",
       " 'city': 'San Francisco',\n",
       " 'address_1': \"333 O'Farrell St\",\n",
       " 'name': 'Hilton San Francisco Union Square',\n",
       " 'lon': -122.41012,\n",
       " 'id': 26058606,\n",
       " 'state': 'CA',\n",
       " 'lat': 37.785732,\n",
       " 'repinned': True}"
      ]
     },
     "execution_count": 21,
     "metadata": {},
     "output_type": "execute_result"
    }
   ],
   "source": [
    "data[0]['venue']"
   ]
  },
  {
   "cell_type": "code",
   "execution_count": null,
   "metadata": {},
   "outputs": [],
   "source": [
    "country, city, name, description, event_url, yes_rsvp_count, status = ([] for i in range(7))\n",
    "\n",
    "for label in data:\n",
    "    results_geocode = geocode.reverse_geocode(label['group']['group_lat'], label['group']['group_lon'])\n",
    "    "
   ]
  },
  {
   "cell_type": "code",
   "execution_count": null,
   "metadata": {},
   "outputs": [],
   "source": []
  }
 ],
 "metadata": {
  "kernelspec": {
   "display_name": "Python 3",
   "language": "python",
   "name": "python3"
  },
  "language_info": {
   "codemirror_mode": {
    "name": "ipython",
    "version": 3
   },
   "file_extension": ".py",
   "mimetype": "text/x-python",
   "name": "python",
   "nbconvert_exporter": "python",
   "pygments_lexer": "ipython3",
   "version": "3.6.8"
  }
 },
 "nbformat": 4,
 "nbformat_minor": 2
}
